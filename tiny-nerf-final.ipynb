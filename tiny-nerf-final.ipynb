{
 "cells": [
  {
   "cell_type": "code",
   "execution_count": 1,
   "metadata": {
    "execution": {
     "iopub.execute_input": "2024-12-08T08:27:03.398927Z",
     "iopub.status.busy": "2024-12-08T08:27:03.398190Z",
     "iopub.status.idle": "2024-12-08T08:27:03.403644Z",
     "shell.execute_reply": "2024-12-08T08:27:03.402743Z",
     "shell.execute_reply.started": "2024-12-08T08:27:03.398892Z"
    },
    "id": "NQT5HOKuleFj",
    "trusted": true
   },
   "outputs": [],
   "source": [
    "import torch\n",
    "import torch.nn as nn\n",
    "import torch.nn.functional as F\n",
    "import torch.optim as optim\n",
    "from torchvision import models\n",
    "import numpy as np\n",
    "import matplotlib.pyplot as plt\n",
    "from tqdm import tqdm\n",
    "\n",
    "import matplotlib.pyplot as plt\n",
    "from IPython.display import clear_output, display, HTML\n",
    "from base64 import b64encode\n",
    "import imageio\n",
    "from PIL import Image\n",
    "\n",
    "# from moviepy.editor import *\n",
    "import cv2\n",
    "from IPython.display import HTML\n",
    "import os\n",
    "import shutil"
   ]
  },
  {
   "cell_type": "code",
   "execution_count": 2,
   "metadata": {
    "execution": {
     "iopub.execute_input": "2024-12-08T08:27:03.405925Z",
     "iopub.status.busy": "2024-12-08T08:27:03.405550Z",
     "iopub.status.idle": "2024-12-08T08:27:03.417775Z",
     "shell.execute_reply": "2024-12-08T08:27:03.417038Z",
     "shell.execute_reply.started": "2024-12-08T08:27:03.405888Z"
    },
    "id": "VglLXBvapivr",
    "trusted": true
   },
   "outputs": [],
   "source": [
    "def get_rays(H: int, W: int, focal: float, c2w: torch.Tensor):\n",
    "    device = c2w.device\n",
    "    i, j = torch.meshgrid(\n",
    "        torch.linspace(0, W-1, W, device=device),\n",
    "        torch.linspace(0, H-1, H, device=device),\n",
    "        indexing='xy'\n",
    "    )\n",
    "\n",
    "    directions = torch.stack([\n",
    "        (i - W * 0.5) / focal,\n",
    "        -(j - H * 0.5) / focal,\n",
    "        -torch.ones_like(i)\n",
    "    ], dim=-1)\n",
    "\n",
    "    if c2w.dim() == 3:\n",
    "        c2w = c2w.squeeze(0)\n",
    "    rays_d = torch.sum(directions[..., None, :] * c2w[:3, :3], dim=-1)\n",
    "    rays_o = c2w[:3, -1].expand(H, W, 3)\n",
    "\n",
    "    return rays_o, rays_d"
   ]
  },
  {
   "cell_type": "code",
   "execution_count": 3,
   "metadata": {
    "execution": {
     "iopub.execute_input": "2024-12-08T08:27:03.418873Z",
     "iopub.status.busy": "2024-12-08T08:27:03.418608Z",
     "iopub.status.idle": "2024-12-08T08:27:03.427913Z",
     "shell.execute_reply": "2024-12-08T08:27:03.427150Z",
     "shell.execute_reply.started": "2024-12-08T08:27:03.418849Z"
    },
    "id": "NcVLgaArx0IK",
    "trusted": true
   },
   "outputs": [],
   "source": [
    "def positional_encoding(x: torch.Tensor, L: int):\n",
    "    # x shape: [N, 3]\n",
    "    encodings = [x]\n",
    "\n",
    "    for l in range(L):\n",
    "        encodings.append(torch.sin(2**l * x))\n",
    "        encodings.append(torch.cos(2**l * x))\n",
    "\n",
    "    return torch.cat(encodings, dim=-1)  # Shape: [N, 3 + 3*2*L]"
   ]
  },
  {
   "cell_type": "code",
   "execution_count": 4,
   "metadata": {
    "execution": {
     "iopub.execute_input": "2024-12-08T08:27:03.429222Z",
     "iopub.status.busy": "2024-12-08T08:27:03.428987Z",
     "iopub.status.idle": "2024-12-08T08:27:03.439889Z",
     "shell.execute_reply": "2024-12-08T08:27:03.439083Z",
     "shell.execute_reply.started": "2024-12-08T08:27:03.429198Z"
    },
    "id": "7dPzZYoYyb6U",
    "trusted": true
   },
   "outputs": [],
   "source": [
    "class NeRF(nn.Module):\n",
    "    def __init__(self, L: int, width: int = 256):\n",
    "        super().__init__()\n",
    "        self.input_dim = 3 + 3*2*L\n",
    "\n",
    "        # First half of the network with LayerNorm\n",
    "        self.net = nn.ModuleList([\n",
    "            nn.Sequential(\n",
    "                nn.Linear(self.input_dim, width),\n",
    "                # nn.LayerNorm(width),\n",
    "                nn.ReLU()\n",
    "            ),\n",
    "            nn.Sequential(\n",
    "                nn.Linear(width, width),\n",
    "                # nn.LayerNorm(width),\n",
    "                nn.ReLU()\n",
    "            ),\n",
    "            nn.Sequential(\n",
    "                nn.Linear(width, width),\n",
    "                # nn.LayerNorm(width),\n",
    "                nn.ReLU()\n",
    "            ),\n",
    "            nn.Sequential(\n",
    "                nn.Linear(width, width),\n",
    "                # nn.LayerNorm(width),\n",
    "                nn.ReLU()\n",
    "            )\n",
    "        ])\n",
    "\n",
    "        # Skip connection network with LayerNorm\n",
    "        self.skip_net = nn.ModuleList([\n",
    "            nn.Sequential(\n",
    "                nn.Linear(width + self.input_dim, width),\n",
    "                # nn.LayerNorm(width),\n",
    "                nn.ReLU()\n",
    "            ),\n",
    "            nn.Sequential(\n",
    "                nn.Linear(width, width),\n",
    "                # nn.LayerNorm(width),\n",
    "                nn.ReLU()\n",
    "            ),\n",
    "            nn.Sequential(\n",
    "                nn.Linear(width, width),\n",
    "                # nn.LayerNorm(width),\n",
    "                nn.ReLU()\n",
    "            ),\n",
    "            nn.Sequential(\n",
    "                nn.Linear(width, width),\n",
    "                # nn.LayerNorm(width),\n",
    "                nn.ReLU()\n",
    "            )\n",
    "        ])\n",
    "\n",
    "        # Output layer (typically no normalization on final output)\n",
    "        self.output_layer = nn.Linear(width, 4)\n",
    "\n",
    "    def forward(self, x):\n",
    "        input_x = x\n",
    "\n",
    "        # First half of the network\n",
    "        for layer in self.net:\n",
    "            x = layer(x)\n",
    "\n",
    "        # Skip connection\n",
    "        x = torch.cat([x, input_x], dim=-1)\n",
    "\n",
    "        # Second half of the network\n",
    "        for layer in self.skip_net:\n",
    "            x = layer(x)\n",
    "\n",
    "        raw = self.output_layer(x)\n",
    "\n",
    "        # Scale the outputs\n",
    "        rgb = raw[..., :3]  # Keep RGB in reasonable range\n",
    "        sigma = raw[..., 3:] * 1.0  # Increase this multiplier if density is too low\n",
    "\n",
    "        return torch.cat([rgb, sigma], dim=-1)"
   ]
  },
  {
   "cell_type": "code",
   "execution_count": 5,
   "metadata": {
    "execution": {
     "iopub.execute_input": "2024-12-08T08:27:03.442496Z",
     "iopub.status.busy": "2024-12-08T08:27:03.441943Z",
     "iopub.status.idle": "2024-12-08T08:27:03.452911Z",
     "shell.execute_reply": "2024-12-08T08:27:03.452019Z",
     "shell.execute_reply.started": "2024-12-08T08:27:03.442453Z"
    },
    "id": "Ydmn3wo40VuC",
    "trusted": true
   },
   "outputs": [],
   "source": [
    "def sample_points(rays_o: torch.Tensor, rays_d: torch.Tensor, near: float, far: float,\n",
    "                 n_samples: int, rand: bool = True):\n",
    "    device = rays_o.device\n",
    "    batch_size = rays_o.shape[0]\n",
    "\n",
    "    # Sample linearly in disparity (inverse depth)\n",
    "    t = torch.linspace(0., 1., n_samples, device=device)\n",
    "    z = 1./(1./near * (1.-t) + 1./far * t)\n",
    "\n",
    "    if rand:\n",
    "        # Get intervals between samples\n",
    "        mids = .5 * (z[..., 1:] + z[..., :-1])\n",
    "        upper = torch.cat([mids, z[..., -1:]], -1)\n",
    "        lower = torch.cat([z[..., :1], mids], -1)\n",
    "\n",
    "        # Stratified samples in those intervals\n",
    "        t_rand = torch.rand(batch_size, n_samples, device=device)\n",
    "        z = lower.expand(batch_size, n_samples) + \\\n",
    "            (upper - lower).expand(batch_size, n_samples) * t_rand\n",
    "    else:\n",
    "        z = z.expand(batch_size, n_samples)\n",
    "\n",
    "    # Convert depths to points\n",
    "    points = rays_o[...,None,:] + rays_d[...,None,:] * z[...,:,None]\n",
    "    return points"
   ]
  },
  {
   "cell_type": "code",
   "execution_count": 6,
   "metadata": {
    "execution": {
     "iopub.execute_input": "2024-12-08T08:27:03.454059Z",
     "iopub.status.busy": "2024-12-08T08:27:03.453818Z",
     "iopub.status.idle": "2024-12-08T08:27:03.466995Z",
     "shell.execute_reply": "2024-12-08T08:27:03.466205Z",
     "shell.execute_reply.started": "2024-12-08T08:27:03.454036Z"
    },
    "id": "Vs3bZ8Tk3XsW",
    "trusted": true
   },
   "outputs": [],
   "source": [
    "def render_rays(nerf: NeRF, points: torch.Tensor, L: int) -> tuple[torch.Tensor, torch.Tensor]:\n",
    "    batch_size, n_samples, _ = points.shape\n",
    "    points_flat = points.reshape(-1, 3)\n",
    "    points_encoded = positional_encoding(points_flat, L)\n",
    "\n",
    "    raw = nerf(points_encoded)\n",
    "    raw = raw.reshape(batch_size, n_samples, 4)\n",
    "\n",
    "    rgb = torch.sigmoid(raw[..., :3])\n",
    "    sigma = F.relu(raw[..., 3])\n",
    "\n",
    "    # Get distances between samples\n",
    "    dists = torch.cat([\n",
    "        torch.norm(points[:, 1:] - points[:, :-1], dim=-1),\n",
    "        torch.ones_like(points[:, :1, 0]) * 1e-3\n",
    "    ], -1)\n",
    "\n",
    "    # Compute alpha compositing weights\n",
    "    alpha = 1. - torch.exp(-sigma * dists)\n",
    "    weights = alpha * torch.cumprod(\n",
    "        torch.cat([torch.ones_like(alpha[:, :1]), 1. - alpha + 1e-10], -1), -1)[:, :-1]\n",
    "\n",
    "    rgb_final = torch.sum(weights[..., None] * rgb, -2)\n",
    "    depth_final = torch.sum(weights * points[..., 2], -1)\n",
    "\n",
    "    return rgb_final, depth_final"
   ]
  },
  {
   "cell_type": "code",
   "execution_count": 7,
   "metadata": {
    "execution": {
     "iopub.execute_input": "2024-12-08T08:27:03.468704Z",
     "iopub.status.busy": "2024-12-08T08:27:03.468311Z",
     "iopub.status.idle": "2024-12-08T08:27:03.483942Z",
     "shell.execute_reply": "2024-12-08T08:27:03.483077Z",
     "shell.execute_reply.started": "2024-12-08T08:27:03.468673Z"
    },
    "id": "qlJF8bVG6Np5",
    "trusted": true
   },
   "outputs": [],
   "source": [
    "def train_nerf(nerf: NeRF, images: torch.Tensor, poses: torch.Tensor, focal: float,\n",
    "               n_samples: int = 64, num_iters: int = 10000,\n",
    "               batch_size: int = 1024, lr: float = 5e-4, near: float = 2., far: float = 6.,\n",
    "               L: int = 6, device: str = 'cuda', test_img=None, test_pose=None):\n",
    "    optimizer = optim.Adam(nerf.parameters(), lr=lr)\n",
    "    scheduler = optim.lr_scheduler.MultiStepLR(optimizer,\n",
    "                                            milestones=[2000, 4000, 6000, 8000],\n",
    "                                            gamma=0.5)\n",
    "    H, W = images.shape[1:3]\n",
    "    losses = []\n",
    "    best_psnrs = []\n",
    "    test_every = 100\n",
    "    best_psnr = 0\n",
    "\n",
    "    def compute_combined_loss(pred, target):\n",
    "        mse = F.mse_loss(pred, target)\n",
    "        psnr = -10 * torch.log10(mse)\n",
    "        # Normalize PSNR to similar scale as MSE\n",
    "        # Typical good PSNR is around 30-40, so we scale it down\n",
    "        psnr_loss = (50 - psnr) / 50  # This maps PSNR of 50 to 0 loss, 0 to 1 loss\n",
    "        # Combine losses with weights\n",
    "        return mse + 0.1 * psnr_loss, mse, psnr\n",
    "\n",
    "    with tqdm(total=num_iters, desc='Training NeRF') as pbar:\n",
    "        for i in range(num_iters):\n",
    "            # Random image\n",
    "            img_idx = torch.randint(0, len(images), (1,))\n",
    "            target = images[img_idx].to(device)\n",
    "            pose = poses[img_idx].to(device)\n",
    "\n",
    "            # Get rays\n",
    "            rays_o, rays_d = get_rays(H, W, focal, pose)\n",
    "            rays_o = rays_o.reshape(-1, 3)\n",
    "            rays_d = rays_d.reshape(-1, 3)\n",
    "            target = target.reshape(-1, 3)\n",
    "\n",
    "            # Random ray batch\n",
    "            select_idx = torch.randint(0, H * W, (batch_size,), device=device)\n",
    "            rays_o = rays_o[select_idx].to(device)\n",
    "            rays_d = rays_d[select_idx].to(device)\n",
    "            target = target[select_idx].to(device)\n",
    "\n",
    "            # Sample points with stratified sampling\n",
    "            points = sample_points(rays_o, rays_d, near, far, n_samples, True)\n",
    "\n",
    "            # Render\n",
    "            rgb, depth = render_rays(nerf, points, L)\n",
    "\n",
    "            # Compute combined loss\n",
    "            combined_loss, mse_loss, psnr = compute_combined_loss(rgb, target)\n",
    "\n",
    "            # Optimize\n",
    "            optimizer.zero_grad()\n",
    "            combined_loss.backward()\n",
    "            optimizer.step()\n",
    "            scheduler.step()\n",
    "\n",
    "            losses.append(combined_loss.item())\n",
    "\n",
    "            # Update tqdm\n",
    "            pbar.set_postfix(\n",
    "                loss=f'{combined_loss.item():.4f}',\n",
    "                mse=f'{mse_loss.item():.4f}',\n",
    "                psnr=f'{psnr.item():.2f}',\n",
    "                lr=f'{scheduler.get_last_lr()[0]:.6f}'\n",
    "            )\n",
    "            pbar.update(1)\n",
    "\n",
    "            if i % test_every == 0:\n",
    "                with torch.no_grad():\n",
    "                    if test_img is not None and test_pose is not None:\n",
    "                        test_psnr = test_view(nerf, test_img, test_pose, H, W, focal, near, far, n_samples, L, device)\n",
    "                        if test_psnr > best_psnr:\n",
    "                            best_psnr = test_psnr\n",
    "                        best_psnrs.append(best_psnr)\n",
    "                        pbar.write(f'Test PSNR: {test_psnr:.2f} (Best: {best_psnr:.2f})')\n",
    "\n",
    "    return losses, best_psnrs\n",
    "\n",
    "# Add test function\n",
    "def test_view(nerf, test_img, test_pose, H, W, focal, near, far, n_samples, L, device):\n",
    "    test_pose = test_pose.to(device)\n",
    "    test_img = test_img.to(device)\n",
    "\n",
    "    rays_o, rays_d = get_rays(H, W, focal, test_pose)\n",
    "    rays_o = rays_o.to(device).reshape(-1, 3)\n",
    "    rays_d = rays_d.to(device).reshape(-1, 3)\n",
    "\n",
    "    rgb_pred = []\n",
    "    for i in range(0, rays_o.shape[0], 4096):  # Process in chunks to avoid OOM\n",
    "        points = sample_points(rays_o[i:i+4096], rays_d[i:i+4096], near, far, n_samples, False)\n",
    "        rgb_chunk, _ = render_rays(nerf, points, L)\n",
    "        rgb_pred.append(rgb_chunk)\n",
    "\n",
    "    rgb_pred = torch.cat(rgb_pred, 0).reshape(H, W, 3)\n",
    "    test_loss = F.mse_loss(rgb_pred, test_img[...,:3])\n",
    "    test_psnr = -10 * torch.log10(test_loss)\n",
    "\n",
    "    return test_psnr.item()"
   ]
  },
  {
   "cell_type": "code",
   "execution_count": 8,
   "metadata": {
    "colab": {
     "base_uri": "https://localhost:8080/"
    },
    "execution": {
     "iopub.execute_input": "2024-12-08T08:27:24.116596Z",
     "iopub.status.busy": "2024-12-08T08:27:24.116254Z",
     "iopub.status.idle": "2024-12-08T08:27:24.395568Z",
     "shell.execute_reply": "2024-12-08T08:27:24.394551Z",
     "shell.execute_reply.started": "2024-12-08T08:27:24.116564Z"
    },
    "id": "FvBjEwNU6qK5",
    "outputId": "f6cacd54-7ce1-4e62-97a3-cea08a37984e",
    "trusted": true
   },
   "outputs": [
    {
     "name": "stdout",
     "output_type": "stream",
     "text": [
      "138.88889188714614\n"
     ]
    }
   ],
   "source": [
    "# Load data\n",
    "\n",
    "npz_file_name = '/kaggle/input/nerf-datasets/elephant_100.npz'\n",
    "# npz_file_name = '/kaggle/input/house-200/house_200.npz'\n",
    "\n",
    "data = np.load(npz_file_name)\n",
    "images = torch.from_numpy(data['images'][:130]).float()\n",
    "images = torch.flip(images, dims=[1])\n",
    "poses = torch.from_numpy(data['poses'][:130]).float()\n",
    "focal = data['focal'][0]\n",
    "print(focal)\n",
    "# focal = 150\n",
    "# focal = torch.ones((1, 100)).float().cuda()"
   ]
  },
  {
   "cell_type": "code",
   "execution_count": 9,
   "metadata": {
    "colab": {
     "base_uri": "https://localhost:8080/",
     "height": 434
    },
    "execution": {
     "iopub.execute_input": "2024-12-08T08:27:24.673537Z",
     "iopub.status.busy": "2024-12-08T08:27:24.673208Z",
     "iopub.status.idle": "2024-12-08T08:27:24.908427Z",
     "shell.execute_reply": "2024-12-08T08:27:24.907703Z",
     "shell.execute_reply.started": "2024-12-08T08:27:24.673505Z"
    },
    "id": "-h1mrTBdVMBA",
    "outputId": "19adb366-36fc-4afe-c06d-3326888af279",
    "trusted": true
   },
   "outputs": [
    {
     "data": {
      "image/png": "[encoded data removed]",
      "text/plain": [
       "<Figure size 640x480 with 1 Axes>"
      ]
     },
     "metadata": {},
     "output_type": "display_data"
    }
   ],
   "source": [
    "display_img = images[129].numpy()\n",
    "plt.imshow(display_img)\n",
    "plt.show()"
   ]
  },
  {
   "cell_type": "code",
   "execution_count": 11,
   "metadata": {
    "execution": {
     "iopub.execute_input": "2024-12-08T08:27:51.978489Z",
     "iopub.status.busy": "2024-12-08T08:27:51.978140Z",
     "iopub.status.idle": "2024-12-08T08:27:52.030713Z",
     "shell.execute_reply": "2024-12-08T08:27:52.030023Z",
     "shell.execute_reply.started": "2024-12-08T08:27:51.978459Z"
    },
    "id": "2Df2FoPA6tr6",
    "trusted": true
   },
   "outputs": [],
   "source": [
    "## Test image/pose\n",
    "test_img = torch.from_numpy(data['images'][131]).float()\n",
    "test_pose = torch.from_numpy(data['poses'][131]).float()"
   ]
  },
  {
   "cell_type": "code",
   "execution_count": 24,
   "metadata": {
    "execution": {
     "iopub.execute_input": "2024-12-08T08:30:27.454770Z",
     "iopub.status.busy": "2024-12-08T08:30:27.453966Z",
     "iopub.status.idle": "2024-12-08T08:30:27.481417Z",
     "shell.execute_reply": "2024-12-08T08:30:27.480732Z",
     "shell.execute_reply.started": "2024-12-08T08:30:27.454732Z"
    },
    "id": "BsB1S1Yv7pPb",
    "trusted": true
   },
   "outputs": [],
   "source": [
    "# At the start of training:\n",
    "# Normalize images to [0, 1] if not already\n",
    "images = images / 255. if images.max() > 1 else images\n",
    "test_img = test_img / 255. if test_img.max() > 1 else test_img\n",
    "\n",
    "# Ensure everything is on the correct device\n",
    "device = 'cuda' if torch.cuda.is_available() else 'cpu'\n",
    "images = images.to(device)\n",
    "poses = poses.to(device)\n",
    "test_img = test_img.to(device)\n",
    "test_pose = test_pose.to(device)"
   ]
  },
  {
   "cell_type": "code",
   "execution_count": 41,
   "metadata": {
    "colab": {
     "base_uri": "https://localhost:8080/",
     "height": 509
    },
    "execution": {
     "iopub.execute_input": "2024-12-08T08:37:15.892200Z",
     "iopub.status.busy": "2024-12-08T08:37:15.891505Z",
     "iopub.status.idle": "2024-12-08T08:38:11.915287Z",
     "shell.execute_reply": "2024-12-08T08:38:11.914446Z",
     "shell.execute_reply.started": "2024-12-08T08:37:15.892166Z"
    },
    "id": "9ls_Wqbu6vGF",
    "outputId": "3560920e-5e06-4df8-d10f-1a7b39befe05",
    "trusted": true
   },
   "outputs": [
    {
     "name": "stderr",
     "output_type": "stream",
     "text": [
      "Training NeRF: 100%|██████████| 2000/2000 [00:55<00:00, 35.83it/s, loss=0.0626, lr=0.000250, mse=0.0064, psnr=21.92]\n"
     ]
    },
    {
     "data": {
      "image/png": "[encoded data removed]",
      "text/plain": [
       "<Figure size 640x480 with 1 Axes>"
      ]
     },
     "metadata": {},
     "output_type": "display_data"
    }
   ],
   "source": [
    "# Initialize model and train\n",
    "L = 8\n",
    "width = 128\n",
    "nerf = NeRF(L=L, width=width).to(device)\n",
    "\n",
    "# Usage:\n",
    "losses, best_psnrs = train_nerf(nerf, images, poses, focal, device=device, num_iters=2000, L=L)\n",
    "\n",
    "# You can then plot the losses:\n",
    "import matplotlib.pyplot as plt\n",
    "plt.plot(losses)\n",
    "plt.plot(best_psnrs)\n",
    "plt.xlabel('Iteration')\n",
    "plt.ylabel('value')\n",
    "plt.title('Training Loss Over Time')\n",
    "plt.show()"
   ]
  },
  {
   "cell_type": "code",
   "execution_count": 42,
   "metadata": {
    "colab": {
     "base_uri": "https://localhost:8080/",
     "height": 925
    },
    "execution": {
     "iopub.execute_input": "2024-12-08T08:38:17.206494Z",
     "iopub.status.busy": "2024-12-08T08:38:17.206128Z",
     "iopub.status.idle": "2024-12-08T08:38:17.593446Z",
     "shell.execute_reply": "2024-12-08T08:38:17.592580Z",
     "shell.execute_reply.started": "2024-12-08T08:38:17.206459Z"
    },
    "id": "tV6Yhfi76xWU",
    "outputId": "3c8de78b-533d-4b85-9724-352c786fd47c",
    "trusted": true
   },
   "outputs": [
    {
     "data": {
      "image/png": "[encoded data removed]",
      "text/plain": [
       "<Figure size 1000x1000 with 1 Axes>"
      ]
     },
     "metadata": {},
     "output_type": "display_data"
    }
   ],
   "source": [
    "def test_render(nerf, test_img, test_pose, H, W, focal, device):\n",
    "    with torch.no_grad():\n",
    "        test_pose = test_pose.to(device)\n",
    "        rays_o, rays_d = get_rays(H, W, focal, test_pose)\n",
    "        rays_o = rays_o.to(device).reshape(-1, 3)\n",
    "        rays_d = rays_d.to(device).reshape(-1, 3)\n",
    "\n",
    "        rgb_pred = []\n",
    "        chunk_size = 256  # Smaller chunks for higher resolution\n",
    "\n",
    "        # with torch.cuda.amp.autocast():\n",
    "        for i in range(0, rays_o.shape[0], chunk_size):\n",
    "            points = sample_points(\n",
    "                rays_o[i:i+chunk_size],\n",
    "                rays_d[i:i+chunk_size],\n",
    "                near=2., far=6., n_samples=32,\n",
    "                rand=False\n",
    "            )\n",
    "            rgb_chunk, _ = render_rays(nerf, points, L)\n",
    "            rgb_pred.append(rgb_chunk.cpu())\n",
    "            torch.cuda.empty_cache()\n",
    "\n",
    "        rgb = torch.cat(rgb_pred, 0).reshape(H, W, 3)\n",
    "\n",
    "        plt.figure(figsize=(10, 10))\n",
    "        plt.imshow(rgb.numpy())\n",
    "        plt.title('Test Render')\n",
    "        plt.show()\n",
    "\n",
    "        return rgb\n",
    "\n",
    "test_rgb = test_render(nerf, test_img, test_pose, 100, 100, focal, device)"
   ]
  },
  {
   "cell_type": "code",
   "execution_count": 16,
   "metadata": {
    "execution": {
     "iopub.execute_input": "2024-12-08T05:16:47.372595Z",
     "iopub.status.busy": "2024-12-08T05:16:47.372136Z",
     "iopub.status.idle": "2024-12-08T05:16:47.390310Z",
     "shell.execute_reply": "2024-12-08T05:16:47.389376Z",
     "shell.execute_reply.started": "2024-12-08T05:16:47.372562Z"
    },
    "id": "fDknYBo6VMBD",
    "trusted": true
   },
   "outputs": [],
   "source": [
    "def render_frames(nerf, H, W, focal, near=2., far=6., n_samples=64, L=36, radius=3.0, phi=-30, device='cuda', output_dir='nerf_frames', display_interval=10):\n",
    "    \"\"\"\n",
    "    Render frames using the trained NeRF model with correct horizontal rotation and Blender-style phi\n",
    "    \"\"\"\n",
    "    import cv2\n",
    "    import os\n",
    "    from IPython.display import clear_output, HTML\n",
    "    from base64 import b64encode\n",
    "    \n",
    "    def create_360_poses(radius=3.0, theta_range=(0, 360), phi=-30):\n",
    "        \"\"\"Create camera poses for horizontal rotation around object\"\"\"\n",
    "        def pose_spherical(theta, phi, radius):\n",
    "            theta_rad = theta/180.*np.pi\n",
    "            phi_rad = phi/180.*np.pi\n",
    "\n",
    "            x = radius * np.cos(-phi_rad) * np.cos(theta_rad)\n",
    "            y = radius * np.sin(-phi_rad)\n",
    "            z = radius * np.cos(-phi_rad) * np.sin(theta_rad)\n",
    "\n",
    "            from_pos = np.array([x, y, z])\n",
    "            to_pos = np.array([0, 0, 0])\n",
    "            forward = - to_pos + from_pos\n",
    "            forward = forward / np.linalg.norm(forward)\n",
    "\n",
    "            right = np.cross(np.array([0, 1, 0]), forward)\n",
    "            right = right / np.linalg.norm(right)\n",
    "            up = np.cross(forward, right)\n",
    "\n",
    "            c2w = np.stack([right, up, -forward, from_pos], axis=1)\n",
    "            c2w = np.concatenate([c2w, np.array([[0, 0, 0, 1]])], axis=0)\n",
    "\n",
    "            return torch.tensor(c2w, dtype=torch.float32)\n",
    "\n",
    "        n_frames = 120\n",
    "        poses = []\n",
    "        thetas = np.linspace(theta_range[0], theta_range[1], n_frames, endpoint=False)\n",
    "\n",
    "        for theta in thetas:\n",
    "            poses.append(pose_spherical(theta, phi, radius))\n",
    "\n",
    "        return torch.stack(poses)\n",
    "\n",
    "    os.makedirs(output_dir, exist_ok=True)\n",
    "    poses = create_360_poses(radius=radius, phi=phi).to(device)\n",
    "    frames = []\n",
    "\n",
    "    # Render frames\n",
    "    with torch.no_grad():\n",
    "        for i, pose in enumerate(tqdm(poses, desc=\"Rendering frames\")):\n",
    "            rays_o, rays_d = get_rays(H, W, focal, pose)\n",
    "            rays_o = rays_o.reshape(-1, 3)\n",
    "            rays_d = rays_d.reshape(-1, 3)\n",
    "            rgb_chunks = []\n",
    "\n",
    "            for j in range(0, rays_o.shape[0], 4096):\n",
    "                points = sample_points(\n",
    "                    rays_o[j:j+4096],\n",
    "                    rays_d[j:j+4096],\n",
    "                    near, far, n_samples, False\n",
    "                )\n",
    "                rgb_chunk, _ = render_rays(nerf, points, L)\n",
    "                rgb_chunks.append(rgb_chunk)\n",
    "\n",
    "            rgb = torch.cat(rgb_chunks, 0).reshape(H, W, 3)\n",
    "            frame = (rgb.cpu().numpy() * 255).astype(np.uint8)\n",
    "            frame_bgr = cv2.cvtColor(frame, cv2.COLOR_RGB2BGR)\n",
    "            frames.append(frame_bgr)\n",
    "\n",
    "            if display_interval and i % display_interval == 0:\n",
    "                clear_output(wait=True)\n",
    "                plt.figure(figsize=(10, 10))\n",
    "                plt.imshow(cv2.cvtColor(frame_bgr, cv2.COLOR_BGR2RGB))\n",
    "                plt.axis('off')\n",
    "                plt.title(f'Frame {i}/{len(poses)}')\n",
    "                plt.show()\n",
    "\n",
    "    try:\n",
    "        # Try different codecs in order of preference\n",
    "        codecs = [\n",
    "            ('mp4v', '.mp4'),\n",
    "            ('XVID', '.avi'),\n",
    "            ('MJPG', '.avi'),\n",
    "            ('X264', '.mp4')\n",
    "        ]\n",
    "        \n",
    "        success = False\n",
    "        video_path = None\n",
    "        \n",
    "        for codec, ext in codecs:\n",
    "            try:\n",
    "                base_name = os.path.splitext(os.path.basename(npz_file_name))[0]\n",
    "                video_filename = f'{base_name}_phi_{-phi}{ext}'\n",
    "                video_path = os.path.join(output_dir, video_filename)\n",
    "                \n",
    "                fourcc = cv2.VideoWriter_fourcc(*codec)\n",
    "                out = cv2.VideoWriter(video_path, fourcc, 30.0, (W, H))\n",
    "                \n",
    "                if out.isOpened():\n",
    "                    # Write frames\n",
    "                    for frame in frames:\n",
    "                        out.write(frame)\n",
    "                    out.release()\n",
    "                    success = True\n",
    "                    print(f\"Successfully created video with codec {codec}\")\n",
    "                    break\n",
    "                else:\n",
    "                    out.release()\n",
    "                    if os.path.exists(video_path):\n",
    "                        os.remove(video_path)\n",
    "            except Exception as e:\n",
    "                print(f\"Failed with codec {codec}: {str(e)}\")\n",
    "                if out is not None:\n",
    "                    out.release()\n",
    "                if video_path and os.path.exists(video_path):\n",
    "                    os.remove(video_path)\n",
    "                continue\n",
    "        \n",
    "        if not success:\n",
    "            raise Exception(\"All codec attempts failed\")\n",
    "            \n",
    "        # Try to display the video if it was created\n",
    "        if video_path and os.path.exists(video_path):\n",
    "            with open(video_path, 'rb') as f:\n",
    "                video_data = f.read()\n",
    "                video_encoded = b64encode(video_data).decode('utf-8')\n",
    "                \n",
    "                display(HTML(f\"\"\"\n",
    "                <video width=\"100%\" height=\"auto\" controls>\n",
    "                    <source src=\"data:video/mp4;base64,{video_encoded}\" type=\"video/mp4\">\n",
    "                    Your browser does not support the video tag.\n",
    "                </video>\n",
    "                \"\"\"))\n",
    "\n",
    "    except Exception as e:\n",
    "        print(f\"Error creating video: {e}\")\n",
    "        # As a fallback, save individual frames as images\n",
    "        print(\"Saving individual frames as fallback...\")\n",
    "        frames_dir = os.path.join(output_dir, f'frames_phi_{-phi}')\n",
    "        os.makedirs(frames_dir, exist_ok=True)\n",
    "        for i, frame in enumerate(frames):\n",
    "            frame_path = os.path.join(frames_dir, f'frame_{i:03d}.png')\n",
    "            cv2.imwrite(frame_path, frame)\n",
    "        print(f\"Saved {len(frames)} frames to {frames_dir}\")\n",
    "\n",
    "    return frames"
   ]
  },
  {
   "cell_type": "code",
   "execution_count": 20,
   "metadata": {
    "colab": {
     "base_uri": "https://localhost:8080/",
     "height": 968
    },
    "execution": {
     "iopub.execute_input": "2024-12-08T05:27:07.381995Z",
     "iopub.status.busy": "2024-12-08T05:27:07.380917Z",
     "iopub.status.idle": "2024-12-08T05:27:43.212264Z",
     "shell.execute_reply": "2024-12-08T05:27:43.211029Z",
     "shell.execute_reply.started": "2024-12-08T05:27:07.381916Z"
    },
    "id": "hzPB0m-8VMBD",
    "outputId": "c2910b8c-2f3f-4c5d-d601-aa0f5e83685d",
    "trusted": true
   },
   "outputs": [
    {
     "data": {
      "image/png": "[encoded data removed]",
      "text/plain": [
       "<Figure size 1000x1000 with 1 Axes>"
      ]
     },
     "metadata": {},
     "output_type": "display_data"
    },
    {
     "name": "stderr",
     "output_type": "stream",
     "text": [
      "Rendering frames:   6%|▌         | 7/120 [00:35<09:36,  5.11s/it]\n"
     ]
    },
    {
     "ename": "KeyboardInterrupt",
     "evalue": "",
     "output_type": "error",
     "traceback": [
      "\u001b[0;31m---------------------------------------------------------------------------\u001b[0m",
      "\u001b[0;31mKeyboardInterrupt\u001b[0m                         Traceback (most recent call last)",
      "Cell \u001b[0;32mIn[20], line 14\u001b[0m\n\u001b[1;32m      2\u001b[0m base_name \u001b[38;5;241m=\u001b[39m os\u001b[38;5;241m.\u001b[39mpath\u001b[38;5;241m.\u001b[39msplitext(os\u001b[38;5;241m.\u001b[39mpath\u001b[38;5;241m.\u001b[39mbasename(npz_file_name))[\u001b[38;5;241m0\u001b[39m]\n\u001b[1;32m      4\u001b[0m \u001b[38;5;66;03m# frames_list = [render_frames(\u001b[39;00m\n\u001b[1;32m      5\u001b[0m \u001b[38;5;66;03m#     nerf=nerf,\u001b[39;00m\n\u001b[1;32m      6\u001b[0m \u001b[38;5;66;03m#     H=200,\u001b[39;00m\n\u001b[0;32m   (...)\u001b[0m\n\u001b[1;32m     12\u001b[0m \u001b[38;5;66;03m#     output_dir=f'{base_name}_rendered_frames') for angle in range(7)\u001b[39;00m\n\u001b[1;32m     13\u001b[0m \u001b[38;5;66;03m# ]\u001b[39;00m\n\u001b[0;32m---> 14\u001b[0m \u001b[43mrender_frames\u001b[49m\u001b[43m(\u001b[49m\n\u001b[1;32m     15\u001b[0m \u001b[43m    \u001b[49m\u001b[43mnerf\u001b[49m\u001b[38;5;241;43m=\u001b[39;49m\u001b[43mnerf\u001b[49m\u001b[43m,\u001b[49m\n\u001b[1;32m     16\u001b[0m \u001b[43m    \u001b[49m\u001b[43mH\u001b[49m\u001b[38;5;241;43m=\u001b[39;49m\u001b[38;5;241;43m200\u001b[39;49m\u001b[43m,\u001b[49m\n\u001b[1;32m     17\u001b[0m \u001b[43m    \u001b[49m\u001b[43mW\u001b[49m\u001b[38;5;241;43m=\u001b[39;49m\u001b[38;5;241;43m200\u001b[39;49m\u001b[43m,\u001b[49m\n\u001b[1;32m     18\u001b[0m \u001b[43m    \u001b[49m\u001b[43mL\u001b[49m\u001b[38;5;241;43m=\u001b[39;49m\u001b[43mL\u001b[49m\u001b[43m,\u001b[49m\n\u001b[1;32m     19\u001b[0m \u001b[43m    \u001b[49m\u001b[43mphi\u001b[49m\u001b[38;5;241;43m=\u001b[39;49m\u001b[38;5;241;43m-\u001b[39;49m\u001b[38;5;241;43m30\u001b[39;49m\u001b[43m,\u001b[49m\n\u001b[1;32m     20\u001b[0m \u001b[43m    \u001b[49m\u001b[43mfocal\u001b[49m\u001b[38;5;241;43m=\u001b[39;49m\u001b[43mfocal\u001b[49m\u001b[43m,\u001b[49m\n\u001b[1;32m     21\u001b[0m \u001b[43m    \u001b[49m\u001b[43mdevice\u001b[49m\u001b[38;5;241;43m=\u001b[39;49m\u001b[38;5;124;43m'\u001b[39;49m\u001b[38;5;124;43mcuda\u001b[39;49m\u001b[38;5;124;43m'\u001b[39;49m\u001b[43m,\u001b[49m\n\u001b[1;32m     22\u001b[0m \u001b[43m    \u001b[49m\u001b[43moutput_dir\u001b[49m\u001b[38;5;241;43m=\u001b[39;49m\u001b[38;5;124;43mf\u001b[39;49m\u001b[38;5;124;43m'\u001b[39;49m\u001b[38;5;132;43;01m{\u001b[39;49;00m\u001b[43mbase_name\u001b[49m\u001b[38;5;132;43;01m}\u001b[39;49;00m\u001b[38;5;124;43m_rendered_frames\u001b[39;49m\u001b[38;5;124;43m'\u001b[39;49m\u001b[43m)\u001b[49m\n",
      "Cell \u001b[0;32mIn[16], line 56\u001b[0m, in \u001b[0;36mrender_frames\u001b[0;34m(nerf, H, W, focal, near, far, n_samples, L, radius, phi, device, output_dir, display_interval)\u001b[0m\n\u001b[1;32m     53\u001b[0m rgb_chunks \u001b[38;5;241m=\u001b[39m []\n\u001b[1;32m     55\u001b[0m \u001b[38;5;28;01mfor\u001b[39;00m j \u001b[38;5;129;01min\u001b[39;00m \u001b[38;5;28mrange\u001b[39m(\u001b[38;5;241m0\u001b[39m, rays_o\u001b[38;5;241m.\u001b[39mshape[\u001b[38;5;241m0\u001b[39m], \u001b[38;5;241m4096\u001b[39m):\n\u001b[0;32m---> 56\u001b[0m     points \u001b[38;5;241m=\u001b[39m \u001b[43msample_points\u001b[49m\u001b[43m(\u001b[49m\n\u001b[1;32m     57\u001b[0m \u001b[43m        \u001b[49m\u001b[43mrays_o\u001b[49m\u001b[43m[\u001b[49m\u001b[43mj\u001b[49m\u001b[43m:\u001b[49m\u001b[43mj\u001b[49m\u001b[38;5;241;43m+\u001b[39;49m\u001b[38;5;241;43m4096\u001b[39;49m\u001b[43m]\u001b[49m\u001b[43m,\u001b[49m\n\u001b[1;32m     58\u001b[0m \u001b[43m        \u001b[49m\u001b[43mrays_d\u001b[49m\u001b[43m[\u001b[49m\u001b[43mj\u001b[49m\u001b[43m:\u001b[49m\u001b[43mj\u001b[49m\u001b[38;5;241;43m+\u001b[39;49m\u001b[38;5;241;43m4096\u001b[39;49m\u001b[43m]\u001b[49m\u001b[43m,\u001b[49m\n\u001b[1;32m     59\u001b[0m \u001b[43m        \u001b[49m\u001b[43mnear\u001b[49m\u001b[43m,\u001b[49m\u001b[43m \u001b[49m\u001b[43mfar\u001b[49m\u001b[43m,\u001b[49m\u001b[43m \u001b[49m\u001b[43mn_samples\u001b[49m\u001b[43m,\u001b[49m\u001b[43m \u001b[49m\u001b[38;5;28;43;01mFalse\u001b[39;49;00m\n\u001b[1;32m     60\u001b[0m \u001b[43m    \u001b[49m\u001b[43m)\u001b[49m\n\u001b[1;32m     61\u001b[0m     rgb_chunk, _ \u001b[38;5;241m=\u001b[39m render_rays(nerf, points, L)\n\u001b[1;32m     62\u001b[0m     rgb_chunks\u001b[38;5;241m.\u001b[39mappend(rgb_chunk)\n",
      "\u001b[0;31mKeyboardInterrupt\u001b[0m: "
     ]
    }
   ],
   "source": [
    "# First let's get just the base name of the file without the full path or extension\n",
    "base_name = os.path.splitext(os.path.basename(npz_file_name))[0]\n",
    "\n",
    "# frames_list = [render_frames(\n",
    "#     nerf=nerf,\n",
    "#     H=200,\n",
    "#     W=200,\n",
    "#     L=L,\n",
    "#     phi=-angle * 10,\n",
    "#     focal=focal,\n",
    "#     device='cuda',\n",
    "#     output_dir=f'{base_name}_rendered_frames') for angle in range(7)\n",
    "# ]\n",
    "render_frames(\n",
    "    nerf=nerf,\n",
    "    H=200,\n",
    "    W=200,\n",
    "    L=L,\n",
    "    phi=-30,\n",
    "    focal=focal,\n",
    "    device='cuda',\n",
    "    output_dir=f'{base_name}_rendered_frames')"
   ]
  },
  {
   "cell_type": "code",
   "execution_count": 1,
   "metadata": {
    "colab": {
     "base_uri": "https://localhost:8080/"
    },
    "execution": {
     "iopub.execute_input": "2024-12-07T13:43:49.757684Z",
     "iopub.status.busy": "2024-12-07T13:43:49.757359Z",
     "iopub.status.idle": "2024-12-07T13:43:49.785925Z",
     "shell.execute_reply": "2024-12-07T13:43:49.784805Z",
     "shell.execute_reply.started": "2024-12-07T13:43:49.757652Z"
    },
    "id": "Rns1hWwtujEr",
    "outputId": "4f315319-a34b-40d9-a8c8-7a4d49e336db",
    "trusted": true
   },
   "outputs": [
    {
     "ename": "NameError",
     "evalue": "name 'os' is not defined",
     "output_type": "error",
     "traceback": [
      "\u001b[0;31m---------------------------------------------------------------------------\u001b[0m",
      "\u001b[0;31mNameError\u001b[0m                                 Traceback (most recent call last)",
      "Cell \u001b[0;32mIn[1], line 2\u001b[0m\n\u001b[1;32m      1\u001b[0m \u001b[38;5;66;03m# Get all MP4 files from the directory\u001b[39;00m\n\u001b[0;32m----> 2\u001b[0m mp4_files \u001b[38;5;241m=\u001b[39m [f \u001b[38;5;28;01mfor\u001b[39;00m f \u001b[38;5;129;01min\u001b[39;00m \u001b[43mos\u001b[49m\u001b[38;5;241m.\u001b[39mlistdir(\u001b[38;5;124mf\u001b[39m\u001b[38;5;124m'\u001b[39m\u001b[38;5;132;01m{\u001b[39;00mbase_name\u001b[38;5;132;01m}\u001b[39;00m\u001b[38;5;124m_rendered_frames\u001b[39m\u001b[38;5;124m'\u001b[39m) \u001b[38;5;28;01mif\u001b[39;00m f\u001b[38;5;241m.\u001b[39mendswith(\u001b[38;5;124m'\u001b[39m\u001b[38;5;124m.mp4\u001b[39m\u001b[38;5;124m'\u001b[39m)]\n\u001b[1;32m      4\u001b[0m \u001b[38;5;66;03m# Create HTML for each video\u001b[39;00m\n\u001b[1;32m      5\u001b[0m video_elements \u001b[38;5;241m=\u001b[39m []\n",
      "\u001b[0;31mNameError\u001b[0m: name 'os' is not defined"
     ]
    }
   ],
   "source": [
    "# Get all MP4 files from the directory\n",
    "mp4_files = [f for f in os.listdir(f'{base_name}_rendered_frames') if f.endswith('.mp4')]\n",
    "\n",
    "# Create HTML for each video\n",
    "video_elements = []\n",
    "for mp4_file in mp4_files:\n",
    "    with open(os.path.join(f'{base_name}_rendered_frames', mp4_file), 'rb') as f:\n",
    "        video_data = f.read()\n",
    "    video_encoded = b64encode(video_data).decode('utf-8')\n",
    "\n",
    "    video_elements.append(f\"\"\"\n",
    "    <div style=\"margin: 20px 0;\">\n",
    "        <h3>{mp4_file}</h3>\n",
    "        <video width=\"100%\" height=\"auto\" controls autoplay loop muted>\n",
    "            <source src=\"data:video/mp4;base64,{video_encoded}\" type=\"video/mp4\">\n",
    "            Your browser does not support the video tag.\n",
    "        </video>\n",
    "    </div>\n",
    "    \"\"\")\n",
    "\n",
    "# Combine all videos into one HTML display\n",
    "HTML(\"\"\"\n",
    "<div style=\"display: flex; flex-direction: column; gap: 20px;\">\n",
    "    {}\n",
    "</div>\n",
    "\"\"\".format('\\n'.join(video_elements)))\n",
    "\n",
    "# Create a zip file containing all files from rendered_frames\n",
    "shutil.make_archive(f'{base_name}_rendered_frames', 'zip', f'{base_name}_rendered_frames')\n",
    "\n",
    "print(f\"Created {base_name}_rendered_frames_archive.zip\")"
   ]
  },
  {
   "cell_type": "code",
   "execution_count": null,
   "metadata": {
    "id": "-RQebTX8wWlZ",
    "trusted": true
   },
   "outputs": [],
   "source": []
  }
 ],
 "metadata": {
  "accelerator": "GPU",
  "colab": {
   "gpuType": "T4",
   "provenance": []
  },
  "kaggle": {
   "accelerator": "nvidiaTeslaT4",
   "dataSources": [
    {
     "datasetId": 6248111,
     "sourceId": 10125207,
     "sourceType": "datasetVersion"
    },
    {
     "datasetId": 6243110,
     "sourceId": 10131272,
     "sourceType": "datasetVersion"
    }
   ],
   "dockerImageVersionId": 30805,
   "isGpuEnabled": true,
   "isInternetEnabled": true,
   "language": "python",
   "sourceType": "notebook"
  },
  "kernelspec": {
   "display_name": "Python 3",
   "language": "python",
   "name": "python3"
  },
  "language_info": {
   "codemirror_mode": {
    "name": "ipython",
    "version": 3
   },
   "file_extension": ".py",
   "mimetype": "text/x-python",
   "name": "python",
   "nbconvert_exporter": "python",
   "pygments_lexer": "ipython3",
   "version": "3.10.14"
  }
 },
 "nbformat": 4,
 "nbformat_minor": 4
}
